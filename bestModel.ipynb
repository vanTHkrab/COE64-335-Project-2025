{
 "cells": [
  {
   "metadata": {},
   "cell_type": "markdown",
   "source": [
    "# This is a sample Jupyter Notebook\n",
    "\n",
    "Below is an example of a code cell. \n",
    "Put your cursor into the cell and press Shift+Enter to execute it and select the next one, or click 'Run Cell' button.\n",
    "\n",
    "Press Double Shift to search everywhere for classes, files, tool windows, actions, and settings.\n",
    "\n",
    "To learn more about Jupyter Notebooks in PyCharm, see [help](https://www.jetbrains.com/help/pycharm/ipython-notebook-support.html).\n",
    "For an overview of PyCharm, go to Help -> Learn IDE features or refer to [our documentation](https://www.jetbrains.com/help/pycharm/getting-started.html)."
   ],
   "id": "8a77807f92f26ee"
  },
  {
   "metadata": {
    "ExecuteTime": {
     "end_time": "2025-09-24T15:50:52.637178Z",
     "start_time": "2025-09-24T15:50:48.293919Z"
    }
   },
   "cell_type": "code",
   "source": [
    "import pandas as pd\n",
    "import numpy as np\n",
    "from sklearn.model_selection import train_test_split\n",
    "\n",
    "from sklearn.preprocessing import StandardScaler\n",
    "from sklearn.pipeline import Pipeline\n",
    "from sklearn.linear_model import LogisticRegression\n",
    "from sklearn.tree import DecisionTreeClassifier\n",
    "from sklearn.ensemble import RandomForestClassifier\n",
    "from sklearn.metrics import classification_report\n",
    "from sklearn.model_selection import StratifiedKFold, GridSearchCV\n",
    "from sklearn.metrics import classification_report, confusion_matrix, f1_score, roc_auc_score, accuracy_score, roc_curve, auc\n",
    "from skopt import BayesSearchCV\n",
    "from skopt.space import Integer, Categorical, Real\n",
    "\n"
   ],
   "id": "fbc121e30a2defb3",
   "outputs": [],
   "execution_count": 2
  },
  {
   "metadata": {
    "ExecuteTime": {
     "end_time": "2025-09-24T15:50:52.650449Z",
     "start_time": "2025-09-24T15:50:52.643129Z"
    }
   },
   "cell_type": "code",
   "source": "df = pd.read_csv(\"spatial-rain-hii.csv\")",
   "id": "eba5a27875941859",
   "outputs": [],
   "execution_count": 3
  },
  {
   "metadata": {
    "ExecuteTime": {
     "end_time": "2025-09-24T15:50:52.669812Z",
     "start_time": "2025-09-24T15:50:52.656986Z"
    }
   },
   "cell_type": "code",
   "source": "df.head(5)",
   "id": "5e73f3bd78842657",
   "outputs": [
    {
     "data": {
      "text/plain": [
       "   YEAR  MONTH  PROV_ID           PROV_T    MinRain     MaxRain     AvgRain\n",
       "0  2018      1       10    กรุงเทพมหานคร  54.299999  257.230011  142.119137\n",
       "1  2018      1       11      สมุทรปราการ  76.250000  256.100006  137.302046\n",
       "2  2018      1       12          นนทบุรี  38.360001  161.470001  113.433771\n",
       "3  2018      1       13         ปทุมธานี  51.439999  116.500000   82.901688\n",
       "4  2018      1       14  พระนครศรีอยุธยา   8.850000   88.589996   39.960089"
      ],
      "text/html": [
       "<div>\n",
       "<style scoped>\n",
       "    .dataframe tbody tr th:only-of-type {\n",
       "        vertical-align: middle;\n",
       "    }\n",
       "\n",
       "    .dataframe tbody tr th {\n",
       "        vertical-align: top;\n",
       "    }\n",
       "\n",
       "    .dataframe thead th {\n",
       "        text-align: right;\n",
       "    }\n",
       "</style>\n",
       "<table border=\"1\" class=\"dataframe\">\n",
       "  <thead>\n",
       "    <tr style=\"text-align: right;\">\n",
       "      <th></th>\n",
       "      <th>YEAR</th>\n",
       "      <th>MONTH</th>\n",
       "      <th>PROV_ID</th>\n",
       "      <th>PROV_T</th>\n",
       "      <th>MinRain</th>\n",
       "      <th>MaxRain</th>\n",
       "      <th>AvgRain</th>\n",
       "    </tr>\n",
       "  </thead>\n",
       "  <tbody>\n",
       "    <tr>\n",
       "      <th>0</th>\n",
       "      <td>2018</td>\n",
       "      <td>1</td>\n",
       "      <td>10</td>\n",
       "      <td>กรุงเทพมหานคร</td>\n",
       "      <td>54.299999</td>\n",
       "      <td>257.230011</td>\n",
       "      <td>142.119137</td>\n",
       "    </tr>\n",
       "    <tr>\n",
       "      <th>1</th>\n",
       "      <td>2018</td>\n",
       "      <td>1</td>\n",
       "      <td>11</td>\n",
       "      <td>สมุทรปราการ</td>\n",
       "      <td>76.250000</td>\n",
       "      <td>256.100006</td>\n",
       "      <td>137.302046</td>\n",
       "    </tr>\n",
       "    <tr>\n",
       "      <th>2</th>\n",
       "      <td>2018</td>\n",
       "      <td>1</td>\n",
       "      <td>12</td>\n",
       "      <td>นนทบุรี</td>\n",
       "      <td>38.360001</td>\n",
       "      <td>161.470001</td>\n",
       "      <td>113.433771</td>\n",
       "    </tr>\n",
       "    <tr>\n",
       "      <th>3</th>\n",
       "      <td>2018</td>\n",
       "      <td>1</td>\n",
       "      <td>13</td>\n",
       "      <td>ปทุมธานี</td>\n",
       "      <td>51.439999</td>\n",
       "      <td>116.500000</td>\n",
       "      <td>82.901688</td>\n",
       "    </tr>\n",
       "    <tr>\n",
       "      <th>4</th>\n",
       "      <td>2018</td>\n",
       "      <td>1</td>\n",
       "      <td>14</td>\n",
       "      <td>พระนครศรีอยุธยา</td>\n",
       "      <td>8.850000</td>\n",
       "      <td>88.589996</td>\n",
       "      <td>39.960089</td>\n",
       "    </tr>\n",
       "  </tbody>\n",
       "</table>\n",
       "</div>"
      ]
     },
     "execution_count": 4,
     "metadata": {},
     "output_type": "execute_result"
    }
   ],
   "execution_count": 4
  },
  {
   "metadata": {},
   "cell_type": "markdown",
   "source": "Cleaning",
   "id": "a603412318d4958b"
  },
  {
   "metadata": {},
   "cell_type": "markdown",
   "source": "1. Check Missing value",
   "id": "55f5eab856d4eee3"
  },
  {
   "metadata": {
    "ExecuteTime": {
     "end_time": "2025-09-24T15:50:52.708699Z",
     "start_time": "2025-09-24T15:50:52.692184Z"
    }
   },
   "cell_type": "code",
   "source": [
    "\n",
    "print(df.describe(include=\"all\"))"
   ],
   "id": "1f66240df6d694a4",
   "outputs": [
    {
     "name": "stdout",
     "output_type": "stream",
     "text": [
      "               YEAR        MONTH      PROV_ID         PROV_T      MinRain  \\\n",
      "count   7084.000000  7084.000000  7084.000000           7084  7084.000000   \n",
      "unique          NaN          NaN          NaN             77          NaN   \n",
      "top             NaN          NaN          NaN  กรุงเทพมหานคร          NaN   \n",
      "freq            NaN          NaN          NaN             92          NaN   \n",
      "mean    2021.347826     6.326087    51.129870            NaN    85.751294   \n",
      "std        2.218826     3.414115    24.943954            NaN    99.093571   \n",
      "min     2018.000000     1.000000    10.000000            NaN     0.000000   \n",
      "25%     2019.000000     3.000000    31.000000            NaN     4.765000   \n",
      "50%     2021.000000     6.000000    50.000000            NaN    56.670000   \n",
      "75%     2023.000000     9.000000    72.000000            NaN   135.262496   \n",
      "max     2025.000000    12.000000    96.000000            NaN  1264.140000   \n",
      "\n",
      "            MaxRain      AvgRain  \n",
      "count   7084.000000  7084.000000  \n",
      "unique          NaN          NaN  \n",
      "top             NaN          NaN  \n",
      "freq            NaN          NaN  \n",
      "mean     190.774180   130.285111  \n",
      "std      189.948223   132.369089  \n",
      "min        0.000000     0.000000  \n",
      "25%       37.292500    18.271285  \n",
      "50%      152.930000   102.885111  \n",
      "75%      278.827507   198.167024  \n",
      "max     1642.350000  1452.629329  \n"
     ]
    }
   ],
   "execution_count": 5
  },
  {
   "metadata": {},
   "cell_type": "markdown",
   "source": "2.ตัด Column PROV_ID",
   "id": "4700f50c4a21f5c9"
  },
  {
   "metadata": {
    "ExecuteTime": {
     "end_time": "2025-09-24T15:50:52.728140Z",
     "start_time": "2025-09-24T15:50:52.725567Z"
    }
   },
   "cell_type": "code",
   "source": "df = df.drop(columns=[\"PROV_T\"])\n",
   "id": "5aff7b2f832b40f9",
   "outputs": [],
   "execution_count": 6
  },
  {
   "metadata": {
    "ExecuteTime": {
     "end_time": "2025-09-24T15:50:52.741086Z",
     "start_time": "2025-09-24T15:50:52.736814Z"
    }
   },
   "cell_type": "code",
   "source": "df.head(5)",
   "id": "a440e4877d8ab48c",
   "outputs": [
    {
     "data": {
      "text/plain": [
       "   YEAR  MONTH  PROV_ID    MinRain     MaxRain     AvgRain\n",
       "0  2018      1       10  54.299999  257.230011  142.119137\n",
       "1  2018      1       11  76.250000  256.100006  137.302046\n",
       "2  2018      1       12  38.360001  161.470001  113.433771\n",
       "3  2018      1       13  51.439999  116.500000   82.901688\n",
       "4  2018      1       14   8.850000   88.589996   39.960089"
      ],
      "text/html": [
       "<div>\n",
       "<style scoped>\n",
       "    .dataframe tbody tr th:only-of-type {\n",
       "        vertical-align: middle;\n",
       "    }\n",
       "\n",
       "    .dataframe tbody tr th {\n",
       "        vertical-align: top;\n",
       "    }\n",
       "\n",
       "    .dataframe thead th {\n",
       "        text-align: right;\n",
       "    }\n",
       "</style>\n",
       "<table border=\"1\" class=\"dataframe\">\n",
       "  <thead>\n",
       "    <tr style=\"text-align: right;\">\n",
       "      <th></th>\n",
       "      <th>YEAR</th>\n",
       "      <th>MONTH</th>\n",
       "      <th>PROV_ID</th>\n",
       "      <th>MinRain</th>\n",
       "      <th>MaxRain</th>\n",
       "      <th>AvgRain</th>\n",
       "    </tr>\n",
       "  </thead>\n",
       "  <tbody>\n",
       "    <tr>\n",
       "      <th>0</th>\n",
       "      <td>2018</td>\n",
       "      <td>1</td>\n",
       "      <td>10</td>\n",
       "      <td>54.299999</td>\n",
       "      <td>257.230011</td>\n",
       "      <td>142.119137</td>\n",
       "    </tr>\n",
       "    <tr>\n",
       "      <th>1</th>\n",
       "      <td>2018</td>\n",
       "      <td>1</td>\n",
       "      <td>11</td>\n",
       "      <td>76.250000</td>\n",
       "      <td>256.100006</td>\n",
       "      <td>137.302046</td>\n",
       "    </tr>\n",
       "    <tr>\n",
       "      <th>2</th>\n",
       "      <td>2018</td>\n",
       "      <td>1</td>\n",
       "      <td>12</td>\n",
       "      <td>38.360001</td>\n",
       "      <td>161.470001</td>\n",
       "      <td>113.433771</td>\n",
       "    </tr>\n",
       "    <tr>\n",
       "      <th>3</th>\n",
       "      <td>2018</td>\n",
       "      <td>1</td>\n",
       "      <td>13</td>\n",
       "      <td>51.439999</td>\n",
       "      <td>116.500000</td>\n",
       "      <td>82.901688</td>\n",
       "    </tr>\n",
       "    <tr>\n",
       "      <th>4</th>\n",
       "      <td>2018</td>\n",
       "      <td>1</td>\n",
       "      <td>14</td>\n",
       "      <td>8.850000</td>\n",
       "      <td>88.589996</td>\n",
       "      <td>39.960089</td>\n",
       "    </tr>\n",
       "  </tbody>\n",
       "</table>\n",
       "</div>"
      ]
     },
     "execution_count": 7,
     "metadata": {},
     "output_type": "execute_result"
    }
   ],
   "execution_count": 7
  },
  {
   "metadata": {},
   "cell_type": "markdown",
   "source": "3.สร้าง Label >= 90 คือตก",
   "id": "759b3b5d794a584f"
  },
  {
   "metadata": {
    "ExecuteTime": {
     "end_time": "2025-09-24T15:50:52.756359Z",
     "start_time": "2025-09-24T15:50:52.753755Z"
    }
   },
   "cell_type": "code",
   "source": "df[\"Rain\"] = (df[\"AvgRain\"] >= 90).astype(int)",
   "id": "1f02fb3129851792",
   "outputs": [],
   "execution_count": 8
  },
  {
   "metadata": {
    "ExecuteTime": {
     "end_time": "2025-09-24T15:50:52.771861Z",
     "start_time": "2025-09-24T15:50:52.767990Z"
    }
   },
   "cell_type": "code",
   "source": "df.head(5)",
   "id": "39c18ea5a62de010",
   "outputs": [
    {
     "data": {
      "text/plain": [
       "   YEAR  MONTH  PROV_ID    MinRain     MaxRain     AvgRain  Rain\n",
       "0  2018      1       10  54.299999  257.230011  142.119137     1\n",
       "1  2018      1       11  76.250000  256.100006  137.302046     1\n",
       "2  2018      1       12  38.360001  161.470001  113.433771     1\n",
       "3  2018      1       13  51.439999  116.500000   82.901688     0\n",
       "4  2018      1       14   8.850000   88.589996   39.960089     0"
      ],
      "text/html": [
       "<div>\n",
       "<style scoped>\n",
       "    .dataframe tbody tr th:only-of-type {\n",
       "        vertical-align: middle;\n",
       "    }\n",
       "\n",
       "    .dataframe tbody tr th {\n",
       "        vertical-align: top;\n",
       "    }\n",
       "\n",
       "    .dataframe thead th {\n",
       "        text-align: right;\n",
       "    }\n",
       "</style>\n",
       "<table border=\"1\" class=\"dataframe\">\n",
       "  <thead>\n",
       "    <tr style=\"text-align: right;\">\n",
       "      <th></th>\n",
       "      <th>YEAR</th>\n",
       "      <th>MONTH</th>\n",
       "      <th>PROV_ID</th>\n",
       "      <th>MinRain</th>\n",
       "      <th>MaxRain</th>\n",
       "      <th>AvgRain</th>\n",
       "      <th>Rain</th>\n",
       "    </tr>\n",
       "  </thead>\n",
       "  <tbody>\n",
       "    <tr>\n",
       "      <th>0</th>\n",
       "      <td>2018</td>\n",
       "      <td>1</td>\n",
       "      <td>10</td>\n",
       "      <td>54.299999</td>\n",
       "      <td>257.230011</td>\n",
       "      <td>142.119137</td>\n",
       "      <td>1</td>\n",
       "    </tr>\n",
       "    <tr>\n",
       "      <th>1</th>\n",
       "      <td>2018</td>\n",
       "      <td>1</td>\n",
       "      <td>11</td>\n",
       "      <td>76.250000</td>\n",
       "      <td>256.100006</td>\n",
       "      <td>137.302046</td>\n",
       "      <td>1</td>\n",
       "    </tr>\n",
       "    <tr>\n",
       "      <th>2</th>\n",
       "      <td>2018</td>\n",
       "      <td>1</td>\n",
       "      <td>12</td>\n",
       "      <td>38.360001</td>\n",
       "      <td>161.470001</td>\n",
       "      <td>113.433771</td>\n",
       "      <td>1</td>\n",
       "    </tr>\n",
       "    <tr>\n",
       "      <th>3</th>\n",
       "      <td>2018</td>\n",
       "      <td>1</td>\n",
       "      <td>13</td>\n",
       "      <td>51.439999</td>\n",
       "      <td>116.500000</td>\n",
       "      <td>82.901688</td>\n",
       "      <td>0</td>\n",
       "    </tr>\n",
       "    <tr>\n",
       "      <th>4</th>\n",
       "      <td>2018</td>\n",
       "      <td>1</td>\n",
       "      <td>14</td>\n",
       "      <td>8.850000</td>\n",
       "      <td>88.589996</td>\n",
       "      <td>39.960089</td>\n",
       "      <td>0</td>\n",
       "    </tr>\n",
       "  </tbody>\n",
       "</table>\n",
       "</div>"
      ]
     },
     "execution_count": 9,
     "metadata": {},
     "output_type": "execute_result"
    }
   ],
   "execution_count": 9
  },
  {
   "metadata": {},
   "cell_type": "markdown",
   "source": "Feature Engineering",
   "id": "f9f39fc7a54a3044"
  },
  {
   "metadata": {},
   "cell_type": "markdown",
   "source": "1.Add coulumn",
   "id": "8c8c4c5bd75e0185"
  },
  {
   "metadata": {},
   "cell_type": "markdown",
   "source": "- Seasonality",
   "id": "f5879c7729e77aa6"
  },
  {
   "metadata": {
    "ExecuteTime": {
     "end_time": "2025-09-24T15:50:52.787559Z",
     "start_time": "2025-09-24T15:50:52.783228Z"
    }
   },
   "cell_type": "code",
   "source": [
    "df[\"month_sin\"] = np.sin(2*np.pi*df[\"MONTH\"]/12)\n",
    "df[\"month_cos\"] = np.cos(2*np.pi*df[\"MONTH\"]/12)"
   ],
   "id": "4a8c1e3fc813b79c",
   "outputs": [],
   "execution_count": 10
  },
  {
   "metadata": {
    "ExecuteTime": {
     "end_time": "2025-09-24T15:50:52.805272Z",
     "start_time": "2025-09-24T15:50:52.801113Z"
    }
   },
   "cell_type": "code",
   "source": "df.head(5)",
   "id": "bff7aaa2041f8c4a",
   "outputs": [
    {
     "data": {
      "text/plain": [
       "   YEAR  MONTH  PROV_ID    MinRain     MaxRain     AvgRain  Rain  month_sin  \\\n",
       "0  2018      1       10  54.299999  257.230011  142.119137     1        0.5   \n",
       "1  2018      1       11  76.250000  256.100006  137.302046     1        0.5   \n",
       "2  2018      1       12  38.360001  161.470001  113.433771     1        0.5   \n",
       "3  2018      1       13  51.439999  116.500000   82.901688     0        0.5   \n",
       "4  2018      1       14   8.850000   88.589996   39.960089     0        0.5   \n",
       "\n",
       "   month_cos  \n",
       "0   0.866025  \n",
       "1   0.866025  \n",
       "2   0.866025  \n",
       "3   0.866025  \n",
       "4   0.866025  "
      ],
      "text/html": [
       "<div>\n",
       "<style scoped>\n",
       "    .dataframe tbody tr th:only-of-type {\n",
       "        vertical-align: middle;\n",
       "    }\n",
       "\n",
       "    .dataframe tbody tr th {\n",
       "        vertical-align: top;\n",
       "    }\n",
       "\n",
       "    .dataframe thead th {\n",
       "        text-align: right;\n",
       "    }\n",
       "</style>\n",
       "<table border=\"1\" class=\"dataframe\">\n",
       "  <thead>\n",
       "    <tr style=\"text-align: right;\">\n",
       "      <th></th>\n",
       "      <th>YEAR</th>\n",
       "      <th>MONTH</th>\n",
       "      <th>PROV_ID</th>\n",
       "      <th>MinRain</th>\n",
       "      <th>MaxRain</th>\n",
       "      <th>AvgRain</th>\n",
       "      <th>Rain</th>\n",
       "      <th>month_sin</th>\n",
       "      <th>month_cos</th>\n",
       "    </tr>\n",
       "  </thead>\n",
       "  <tbody>\n",
       "    <tr>\n",
       "      <th>0</th>\n",
       "      <td>2018</td>\n",
       "      <td>1</td>\n",
       "      <td>10</td>\n",
       "      <td>54.299999</td>\n",
       "      <td>257.230011</td>\n",
       "      <td>142.119137</td>\n",
       "      <td>1</td>\n",
       "      <td>0.5</td>\n",
       "      <td>0.866025</td>\n",
       "    </tr>\n",
       "    <tr>\n",
       "      <th>1</th>\n",
       "      <td>2018</td>\n",
       "      <td>1</td>\n",
       "      <td>11</td>\n",
       "      <td>76.250000</td>\n",
       "      <td>256.100006</td>\n",
       "      <td>137.302046</td>\n",
       "      <td>1</td>\n",
       "      <td>0.5</td>\n",
       "      <td>0.866025</td>\n",
       "    </tr>\n",
       "    <tr>\n",
       "      <th>2</th>\n",
       "      <td>2018</td>\n",
       "      <td>1</td>\n",
       "      <td>12</td>\n",
       "      <td>38.360001</td>\n",
       "      <td>161.470001</td>\n",
       "      <td>113.433771</td>\n",
       "      <td>1</td>\n",
       "      <td>0.5</td>\n",
       "      <td>0.866025</td>\n",
       "    </tr>\n",
       "    <tr>\n",
       "      <th>3</th>\n",
       "      <td>2018</td>\n",
       "      <td>1</td>\n",
       "      <td>13</td>\n",
       "      <td>51.439999</td>\n",
       "      <td>116.500000</td>\n",
       "      <td>82.901688</td>\n",
       "      <td>0</td>\n",
       "      <td>0.5</td>\n",
       "      <td>0.866025</td>\n",
       "    </tr>\n",
       "    <tr>\n",
       "      <th>4</th>\n",
       "      <td>2018</td>\n",
       "      <td>1</td>\n",
       "      <td>14</td>\n",
       "      <td>8.850000</td>\n",
       "      <td>88.589996</td>\n",
       "      <td>39.960089</td>\n",
       "      <td>0</td>\n",
       "      <td>0.5</td>\n",
       "      <td>0.866025</td>\n",
       "    </tr>\n",
       "  </tbody>\n",
       "</table>\n",
       "</div>"
      ]
     },
     "execution_count": 11,
     "metadata": {},
     "output_type": "execute_result"
    }
   ],
   "execution_count": 11
  },
  {
   "metadata": {
    "ExecuteTime": {
     "end_time": "2025-09-24T15:50:52.838375Z",
     "start_time": "2025-09-24T15:50:52.835775Z"
    }
   },
   "cell_type": "code",
   "source": "df = df.drop(columns=[\"MONTH\"])",
   "id": "a2934e6dc15e902e",
   "outputs": [],
   "execution_count": 12
  },
  {
   "metadata": {
    "ExecuteTime": {
     "end_time": "2025-09-24T15:50:52.854603Z",
     "start_time": "2025-09-24T15:50:52.848726Z"
    }
   },
   "cell_type": "code",
   "source": "df.head(3)",
   "id": "b5dd6169a7358bfa",
   "outputs": [
    {
     "data": {
      "text/plain": [
       "   YEAR  PROV_ID    MinRain     MaxRain     AvgRain  Rain  month_sin  \\\n",
       "0  2018       10  54.299999  257.230011  142.119137     1        0.5   \n",
       "1  2018       11  76.250000  256.100006  137.302046     1        0.5   \n",
       "2  2018       12  38.360001  161.470001  113.433771     1        0.5   \n",
       "\n",
       "   month_cos  \n",
       "0   0.866025  \n",
       "1   0.866025  \n",
       "2   0.866025  "
      ],
      "text/html": [
       "<div>\n",
       "<style scoped>\n",
       "    .dataframe tbody tr th:only-of-type {\n",
       "        vertical-align: middle;\n",
       "    }\n",
       "\n",
       "    .dataframe tbody tr th {\n",
       "        vertical-align: top;\n",
       "    }\n",
       "\n",
       "    .dataframe thead th {\n",
       "        text-align: right;\n",
       "    }\n",
       "</style>\n",
       "<table border=\"1\" class=\"dataframe\">\n",
       "  <thead>\n",
       "    <tr style=\"text-align: right;\">\n",
       "      <th></th>\n",
       "      <th>YEAR</th>\n",
       "      <th>PROV_ID</th>\n",
       "      <th>MinRain</th>\n",
       "      <th>MaxRain</th>\n",
       "      <th>AvgRain</th>\n",
       "      <th>Rain</th>\n",
       "      <th>month_sin</th>\n",
       "      <th>month_cos</th>\n",
       "    </tr>\n",
       "  </thead>\n",
       "  <tbody>\n",
       "    <tr>\n",
       "      <th>0</th>\n",
       "      <td>2018</td>\n",
       "      <td>10</td>\n",
       "      <td>54.299999</td>\n",
       "      <td>257.230011</td>\n",
       "      <td>142.119137</td>\n",
       "      <td>1</td>\n",
       "      <td>0.5</td>\n",
       "      <td>0.866025</td>\n",
       "    </tr>\n",
       "    <tr>\n",
       "      <th>1</th>\n",
       "      <td>2018</td>\n",
       "      <td>11</td>\n",
       "      <td>76.250000</td>\n",
       "      <td>256.100006</td>\n",
       "      <td>137.302046</td>\n",
       "      <td>1</td>\n",
       "      <td>0.5</td>\n",
       "      <td>0.866025</td>\n",
       "    </tr>\n",
       "    <tr>\n",
       "      <th>2</th>\n",
       "      <td>2018</td>\n",
       "      <td>12</td>\n",
       "      <td>38.360001</td>\n",
       "      <td>161.470001</td>\n",
       "      <td>113.433771</td>\n",
       "      <td>1</td>\n",
       "      <td>0.5</td>\n",
       "      <td>0.866025</td>\n",
       "    </tr>\n",
       "  </tbody>\n",
       "</table>\n",
       "</div>"
      ]
     },
     "execution_count": 13,
     "metadata": {},
     "output_type": "execute_result"
    }
   ],
   "execution_count": 13
  },
  {
   "metadata": {},
   "cell_type": "markdown",
   "source": "# Train/Test Split",
   "id": "fa1f8bc845c8ba93"
  },
  {
   "metadata": {
    "ExecuteTime": {
     "end_time": "2025-09-24T15:50:52.903208Z",
     "start_time": "2025-09-24T15:50:52.896013Z"
    }
   },
   "cell_type": "code",
   "source": [
    "X = df[[\"PROV_ID\", \"month_sin\", \"month_cos\"]]\n",
    "y = df[\"Rain\"]\n",
    "\n",
    "X_train, X_test, y_train, y_test = train_test_split(\n",
    "    X, y, test_size=0.2, random_state=42, stratify=y\n",
    ")"
   ],
   "id": "c9ad31d66bd330f1",
   "outputs": [],
   "execution_count": 14
  },
  {
   "metadata": {
    "ExecuteTime": {
     "end_time": "2025-09-24T15:50:52.917042Z",
     "start_time": "2025-09-24T15:50:52.911591Z"
    }
   },
   "cell_type": "code",
   "source": [
    "print(\"X_train sample:\")\n",
    "print(X_train.head())\n",
    "\n",
    "print(\"\\ny_train sample:\")\n",
    "print(y_train.head())\n",
    "\n",
    "print(\"\\nX_test sample:\")\n",
    "print(X_test.head())\n",
    "\n",
    "print(\"\\ny_test sample:\")\n",
    "print(y_test.head())\n"
   ],
   "id": "99ecb706f773536a",
   "outputs": [
    {
     "name": "stdout",
     "output_type": "stream",
     "text": [
      "X_train sample:\n",
      "      PROV_ID  month_sin     month_cos\n",
      "3528       80  -0.866025  5.000000e-01\n",
      "6240       13  -0.866025  5.000000e-01\n",
      "670        67  -1.000000 -1.836970e-16\n",
      "4248       23  -0.866025 -5.000000e-01\n",
      "4836       77   1.000000  6.123234e-17\n",
      "\n",
      "y_train sample:\n",
      "3528    1\n",
      "6240    1\n",
      "670     1\n",
      "4248    1\n",
      "4836    0\n",
      "Name: Rain, dtype: int64\n",
      "\n",
      "X_test sample:\n",
      "      PROV_ID  month_sin     month_cos\n",
      "3426       50  -1.000000 -1.836970e-16\n",
      "3915       82   1.000000  6.123234e-17\n",
      "6698       96   1.000000  6.123234e-17\n",
      "302        91   0.866025 -5.000000e-01\n",
      "1897       62   0.500000  8.660254e-01\n",
      "\n",
      "y_test sample:\n",
      "3426    1\n",
      "3915    1\n",
      "6698    0\n",
      "302     1\n",
      "1897    0\n",
      "Name: Rain, dtype: int64\n"
     ]
    }
   ],
   "execution_count": 15
  },
  {
   "metadata": {},
   "cell_type": "markdown",
   "source": "",
   "id": "c56fb1149e04329a"
  },
  {
   "metadata": {},
   "cell_type": "markdown",
   "source": "",
   "id": "d1eca5684263f3ad"
  },
  {
   "metadata": {
    "ExecuteTime": {
     "end_time": "2025-09-24T15:50:52.936832Z",
     "start_time": "2025-09-24T15:50:52.931077Z"
    }
   },
   "cell_type": "code",
   "source": "",
   "id": "e4df03b5eedfdf0f",
   "outputs": [],
   "execution_count": null
  },
  {
   "metadata": {},
   "cell_type": "markdown",
   "source": "",
   "id": "ebab36f7699cf868"
  },
  {
   "metadata": {},
   "cell_type": "markdown",
   "source": "",
   "id": "77bda69201cb5534"
  },
  {
   "metadata": {},
   "cell_type": "markdown",
   "source": "",
   "id": "71301c26a16f3d90"
  },
  {
   "metadata": {},
   "cell_type": "markdown",
   "source": "",
   "id": "9b431cfe63ae1648"
  },
  {
   "metadata": {},
   "cell_type": "markdown",
   "source": [
    "********** Traning ************\n",
    "and scaling"
   ],
   "id": "4ce2699fe6496835"
  },
  {
   "metadata": {},
   "cell_type": "markdown",
   "source": "# Logistic Regression",
   "id": "4a143f3afba87a36"
  },
  {
   "metadata": {
    "ExecuteTime": {
     "end_time": "2025-09-24T15:50:52.958140Z",
     "start_time": "2025-09-24T15:50:52.953850Z"
    }
   },
   "cell_type": "code",
   "source": [
    "# log_pipe = Pipeline([\n",
    "#     (\"scaler\", StandardScaler()),\n",
    "#     (\"clf\", LogisticRegression(max_iter=1000))\n",
    "# ])\n",
    "# log_pipe.fit(X_train, y_train)"
   ],
   "id": "27a2215e8825f1d5",
   "outputs": [],
   "execution_count": 16
  },
  {
   "metadata": {
    "ExecuteTime": {
     "end_time": "2025-09-24T15:50:52.971732Z",
     "start_time": "2025-09-24T15:50:52.969305Z"
    }
   },
   "cell_type": "code",
   "source": [
    "# y_pred = log_pipe.predict(X_test)\n",
    "# y_proba = log_pipe.predict_proba(X_test)[:, 1]   # ใช้ proba ของ Rain=1\n",
    "#\n",
    "# print(\"=== Logistic Regression ===\")\n",
    "# print(classification_report(y_test, y_pred, digits=4))\n",
    "# print(confusion_matrix(y_test, y_pred))\n",
    "#\n",
    "# # เพิ่ม F1 และ ROC-AUC\n",
    "# f1 = f1_score(y_test, y_pred)\n",
    "# auc = roc_auc_score(y_test, y_proba)\n",
    "# print(f\"F1-score (test): {f1:.4f}\")\n",
    "# print(f\"ROC-AUC   (test): {auc:.4f}\")"
   ],
   "id": "b7edec12b3ff2b64",
   "outputs": [],
   "execution_count": 17
  },
  {
   "metadata": {},
   "cell_type": "markdown",
   "source": "# Decision Tree",
   "id": "11d7460c3344f4b"
  },
  {
   "metadata": {
    "ExecuteTime": {
     "end_time": "2025-09-24T15:50:52.978465Z",
     "start_time": "2025-09-24T15:50:52.976945Z"
    }
   },
   "cell_type": "code",
   "source": [
    "# tree_pipe = Pipeline([\n",
    "#     (\"scaler\", StandardScaler()),   # จริง ๆ ไม่จำเป็นกับ tree\n",
    "#     (\"clf\", DecisionTreeClassifier(random_state=42))\n",
    "# ])\n",
    "# tree_pipe.fit(X_train, y_train)"
   ],
   "id": "c01e2aed253abde6",
   "outputs": [],
   "execution_count": 18
  },
  {
   "metadata": {
    "ExecuteTime": {
     "end_time": "2025-09-24T15:50:52.985127Z",
     "start_time": "2025-09-24T15:50:52.983459Z"
    }
   },
   "cell_type": "code",
   "source": [
    "# y_pred = tree_pipe.predict(X_test)\n",
    "# print(\"=== Decision Tree ===\")\n",
    "# print(classification_report(y_test, y_pred, digits=4))\n",
    "# print(confusion_matrix(y_test, y_pred))\n",
    "# # เพิ่ม F1 และ ROC-AUC\n",
    "# f1 = f1_score(y_test, y_pred)\n",
    "# auc = roc_auc_score(y_test, y_proba)\n",
    "# print(f\"F1-score (test): {f1:.4f}\")\n",
    "# print(f\"ROC-AUC   (test): {auc:.4f}\")"
   ],
   "id": "4d38a5c71a5bbbbe",
   "outputs": [],
   "execution_count": 19
  },
  {
   "metadata": {},
   "cell_type": "markdown",
   "source": "# Random Forest",
   "id": "3f1d7cfef09238e4"
  },
  {
   "metadata": {
    "ExecuteTime": {
     "end_time": "2025-09-24T15:50:52.997435Z",
     "start_time": "2025-09-24T15:50:52.995865Z"
    }
   },
   "cell_type": "code",
   "source": [
    "# rf_pipe = Pipeline([\n",
    "#     (\"scaler\", StandardScaler()),   # ไม่จำเป็นกับ forest เช่นกัน\n",
    "#     (\"clf\", RandomForestClassifier(random_state=42))\n",
    "# ])\n",
    "# rf_pipe.fit(X_train, y_train)"
   ],
   "id": "6f8368b3a25fe90b",
   "outputs": [],
   "execution_count": 20
  },
  {
   "metadata": {
    "ExecuteTime": {
     "end_time": "2025-09-24T15:50:53.003264Z",
     "start_time": "2025-09-24T15:50:53.001699Z"
    }
   },
   "cell_type": "code",
   "source": [
    "# y_pred = rf_pipe.predict(X_test)\n",
    "# print(\"=== Random Forest ===\")\n",
    "# print(classification_report(y_test, y_pred, digits=4))\n",
    "# print(confusion_matrix(y_test, y_pred))\n",
    "# # เพิ่ม F1 และ ROC-AUC\n",
    "# f1 = f1_score(y_test, y_pred)\n",
    "# auc = roc_auc_score(y_test, y_proba)\n",
    "# print(f\"F1-score (test): {f1:.4f}\")\n",
    "# print(f\"ROC-AUC   (test): {auc:.4f}\")"
   ],
   "id": "84d93219e30df55",
   "outputs": [],
   "execution_count": 21
  },
  {
   "metadata": {
    "ExecuteTime": {
     "end_time": "2025-09-24T15:50:53.008731Z",
     "start_time": "2025-09-24T15:50:53.007523Z"
    }
   },
   "cell_type": "code",
   "source": "",
   "id": "561610560695553c",
   "outputs": [],
   "execution_count": null
  },
  {
   "metadata": {},
   "cell_type": "markdown",
   "source": "",
   "id": "5f25d16774bc77d4"
  },
  {
   "metadata": {},
   "cell_type": "markdown",
   "source": "",
   "id": "850c8fa3dc3d7d16"
  },
  {
   "metadata": {},
   "cell_type": "markdown",
   "source": "",
   "id": "365c2ebe62be72ce"
  },
  {
   "metadata": {},
   "cell_type": "markdown",
   "source": "# Hyperparameter Tunning",
   "id": "1e47cdc0aee3aa9d"
  },
  {
   "metadata": {},
   "cell_type": "markdown",
   "source": "",
   "id": "38d1ddff15fbf86e"
  },
  {
   "metadata": {
    "ExecuteTime": {
     "end_time": "2025-09-24T15:50:53.737914Z",
     "start_time": "2025-09-24T15:50:53.013946Z"
    }
   },
   "cell_type": "code",
   "source": [
    "# Pipeline ที่ fix ค่า hyperparameters ตาม best params\n",
    "rf_best = Pipeline([\n",
    "    (\"scaler\", StandardScaler()),\n",
    "    (\"clf\", RandomForestClassifier(\n",
    "        random_state=42,\n",
    "        n_jobs=-1,\n",
    "        class_weight=None,\n",
    "        max_depth=10,\n",
    "        max_features=\"sqrt\",\n",
    "        min_samples_leaf=6,\n",
    "        min_samples_split=2,\n",
    "        n_estimators=600\n",
    "    ))\n",
    "])\n",
    "\n",
    "# เทรนโมเดล\n",
    "rf_best.fit(X_train, y_train)\n",
    "\n",
    "# ถ้าอยากดูผล\n",
    "y_pred = rf_best.predict(X_test)\n",
    "\n",
    "print(\"Accuracy:\", (y_pred == y_test).mean())"
   ],
   "id": "f8ee1b3a1e7455e7",
   "outputs": [
    {
     "name": "stdout",
     "output_type": "stream",
     "text": [
      "Accuracy: 0.8913196894848271\n"
     ]
    }
   ],
   "execution_count": 22
  },
  {
   "metadata": {},
   "cell_type": "markdown",
   "source": "",
   "id": "c1840b4a1145c836"
  },
  {
   "metadata": {
    "ExecuteTime": {
     "end_time": "2025-09-24T15:50:53.789818Z",
     "start_time": "2025-09-24T15:50:53.787103Z"
    }
   },
   "cell_type": "code",
   "source": "",
   "id": "1393dc42e05f4f34",
   "outputs": [],
   "execution_count": null
  },
  {
   "metadata": {},
   "cell_type": "markdown",
   "source": "",
   "id": "5abc38cf22316a0c"
  },
  {
   "metadata": {
    "ExecuteTime": {
     "end_time": "2025-09-24T15:50:53.823862Z",
     "start_time": "2025-09-24T15:50:53.821266Z"
    }
   },
   "cell_type": "code",
   "source": "",
   "id": "96e1e4286397135d",
   "outputs": [],
   "execution_count": null
  },
  {
   "metadata": {},
   "cell_type": "markdown",
   "source": "### - Random Forest",
   "id": "10d01ad5a268ca44"
  },
  {
   "metadata": {
    "ExecuteTime": {
     "end_time": "2025-09-24T15:50:53.851289Z",
     "start_time": "2025-09-24T15:50:53.849421Z"
    }
   },
   "cell_type": "code",
   "source": "",
   "id": "bdf77aaaf0b86221",
   "outputs": [],
   "execution_count": null
  },
  {
   "metadata": {
    "ExecuteTime": {
     "end_time": "2025-09-24T15:50:53.859405Z",
     "start_time": "2025-09-24T15:50:53.857798Z"
    }
   },
   "cell_type": "code",
   "source": "",
   "id": "d155e332c7583e7a",
   "outputs": [],
   "execution_count": null
  },
  {
   "metadata": {
    "ExecuteTime": {
     "end_time": "2025-09-24T15:50:53.871630Z",
     "start_time": "2025-09-24T15:50:53.870295Z"
    }
   },
   "cell_type": "code",
   "source": "",
   "id": "8d0a0a4d7a31f088",
   "outputs": [],
   "execution_count": null
  },
  {
   "metadata": {},
   "cell_type": "markdown",
   "source": "",
   "id": "36ec7f4493691591"
  },
  {
   "metadata": {
    "ExecuteTime": {
     "end_time": "2025-09-24T15:50:53.877094Z",
     "start_time": "2025-09-24T15:50:53.875636Z"
    }
   },
   "cell_type": "code",
   "source": "",
   "id": "7d0fbeff946dcaf1",
   "outputs": [],
   "execution_count": null
  },
  {
   "metadata": {
    "ExecuteTime": {
     "end_time": "2025-09-24T15:50:53.882594Z",
     "start_time": "2025-09-24T15:50:53.881293Z"
    }
   },
   "cell_type": "code",
   "source": "",
   "id": "aa93973d583e0d38",
   "outputs": [],
   "execution_count": null
  },
  {
   "metadata": {
    "ExecuteTime": {
     "end_time": "2025-09-24T15:50:53.888173Z",
     "start_time": "2025-09-24T15:50:53.887003Z"
    }
   },
   "cell_type": "code",
   "source": "",
   "id": "a13d27ddd8997fe6",
   "outputs": [],
   "execution_count": null
  },
  {
   "metadata": {
    "ExecuteTime": {
     "end_time": "2025-09-24T15:50:53.893422Z",
     "start_time": "2025-09-24T15:50:53.892245Z"
    }
   },
   "cell_type": "code",
   "source": "",
   "id": "b52e90d8dedd0a14",
   "outputs": [],
   "execution_count": null
  },
  {
   "metadata": {
    "ExecuteTime": {
     "end_time": "2025-09-24T15:50:53.899984Z",
     "start_time": "2025-09-24T15:50:53.898515Z"
    }
   },
   "cell_type": "code",
   "source": "",
   "id": "4d01b7b439b5e356",
   "outputs": [],
   "execution_count": null
  }
 ],
 "metadata": {
  "kernelspec": {
   "display_name": "Python 3",
   "language": "python",
   "name": "python3"
  },
  "language_info": {
   "codemirror_mode": {
    "name": "ipython",
    "version": 2
   },
   "file_extension": ".py",
   "mimetype": "text/x-python",
   "name": "python",
   "nbconvert_exporter": "python",
   "pygments_lexer": "ipython2",
   "version": "2.7.6"
  }
 },
 "nbformat": 4,
 "nbformat_minor": 5
}
