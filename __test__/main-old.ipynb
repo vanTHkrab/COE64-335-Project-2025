{
 "cells": [
  {
   "metadata": {
    "ExecuteTime": {
     "end_time": "2025-09-13T10:39:09.120100Z",
     "start_time": "2025-09-13T10:39:09.116801Z"
    }
   },
   "cell_type": "code",
   "source": [
    "import pandas as pd\n",
    "import numpy as np\n",
    "from parso.python.tokenize import group"
   ],
   "id": "7bf6069615dda630",
   "outputs": [],
   "execution_count": 17
  },
  {
   "metadata": {
    "ExecuteTime": {
     "end_time": "2025-09-13T10:39:09.153387Z",
     "start_time": "2025-09-13T10:39:09.129633Z"
    }
   },
   "cell_type": "code",
   "source": [
    "df = pd.read_csv(\"../data/__select__/c001-production_y_oae.csv\")\n",
    "print(df.head())"
   ],
   "id": "98f36482474d6bfa",
   "outputs": [
    {
     "name": "stdout",
     "output_type": "stream",
     "text": [
      "  crop_year  year   product    province  area_plant_rai  area_harvest_rai  \\\n",
      "0   2549/50  2550  ข้าวนาปี  ทั้งประเทศ      57541825.0        53500163.0   \n",
      "1   2550/51  2551  ข้าวนาปี  ทั้งประเทศ      57385921.0        53892143.0   \n",
      "2   2551/52  2552  ข้าวนาปี  ทั้งประเทศ      57422337.0        54385144.0   \n",
      "3   2552/53  2553  ข้าวนาปี  ทั้งประเทศ      57497441.0        54739638.0   \n",
      "4   2553/54  2554  ข้าวนาปี  ทั้งประเทศ      64574071.0        59690203.0   \n",
      "\n",
      "   production_ton  \n",
      "0      23108401.0  \n",
      "1      23582596.0  \n",
      "2      23508833.0  \n",
      "3      23430770.0  \n",
      "4      25742917.0  \n"
     ]
    }
   ],
   "execution_count": 18
  },
  {
   "metadata": {
    "ExecuteTime": {
     "end_time": "2025-09-13T10:41:38.204003Z",
     "start_time": "2025-09-13T10:41:38.166682Z"
    }
   },
   "cell_type": "code",
   "source": [
    "df.describe()\n",
    "\n",
    "# Define regions for provinces\n",
    "regions = {\n",
    "    'ภาคเหนือ': ['เชียงใหม่', 'เชียงราย', 'ลำพูน', 'ลำปาง', 'แพร่', 'น่าน', 'พะเยา', 'แม่ฮ่องสอน'],\n",
    "    'ภาคตะวันออกเฉียงเหนือ': ['ขอนแก่น', 'อุดรธานี', 'นครราชสีมา', 'บุรีรัมย์', 'สุรินทร์', 'ศรีสะเกษ', 'ร้อยเอ็ด', 'มหาสารคาม', 'กาฬสินธุ์', 'เลย', 'หนองคาย', 'หนองบัวลำภู', 'บึงกาฬ', 'สกลนคร', 'นครพนม', 'มุดดาหาร', 'อุบลราชธานี', 'ยโสธร', 'อำนาจเจริญ'],\n",
    "    'ภาคกลาง': ['กรุงเทพมหานคร', 'นนทบุรี', 'ปทุมธานี', 'สมุทรปราการ', 'สมุทรสาคร', 'สมุทรสงคราม', 'นครปฐม', 'พระนครศรีอยุธยา', 'ลพบุรี', 'สระบุรี', 'อ่างทอง', 'ชัยนาท', 'สุพรรณบุรี'],\n",
    "    'ภาคใต้': ['ภูเก็ต', 'กระบี่', 'สุราษฎร์ธานี', 'นครศรีธรรมราช', 'สงขลา', 'ปัตตานี', 'ยะลา', 'นราธิวาส', 'ตรัง', 'พัทลุง', 'ชุมพร', 'ระนอง', 'สตูล']\n",
    "}\n",
    "\n",
    "# Map provinces to their regions\n",
    "def map_region(province):\n",
    "    for region, provinces in regions.items():\n",
    "        if province in provinces:\n",
    "            return region\n",
    "    return 'อื่นๆ'\n",
    "\n",
    "df['region'] = df['province'].apply(map_region)\n",
    "\n",
    "grouped_data = df.groupby(['product', 'region'])['province'].nunique()\n",
    "print(\"Grouped data by product and region with unique provinces:\", grouped_data)"
   ],
   "id": "cdc592916f1c4b61",
   "outputs": [
    {
     "name": "stdout",
     "output_type": "stream",
     "text": [
      "Grouped data by product and region with unique provinces: product   region               \n",
      "กระเทียม  ภาคตะวันออกเฉียงเหนือ     3\n",
      "          ภาคเหนือ                  8\n",
      "          อื่นๆ                     7\n",
      "กาแฟ      ภาคตะวันออกเฉียงเหนือ     3\n",
      "          ภาคเหนือ                  7\n",
      "                                   ..\n",
      "หอมแดง    อื่นๆ                    10\n",
      "เงาะ      ภาคตะวันออกเฉียงเหนือ     8\n",
      "          ภาคเหนือ                  5\n",
      "          ภาคใต้                   13\n",
      "          อื่นๆ                    21\n",
      "Name: province, Length: 105, dtype: int64\n"
     ]
    }
   ],
   "execution_count": 21
  },
  {
   "metadata": {},
   "cell_type": "code",
   "outputs": [],
   "execution_count": null,
   "source": "",
   "id": "117ebe903e6c659e"
  }
 ],
 "metadata": {
  "kernelspec": {
   "display_name": "Python 3",
   "language": "python",
   "name": "python3"
  },
  "language_info": {
   "codemirror_mode": {
    "name": "ipython",
    "version": 2
   },
   "file_extension": ".py",
   "mimetype": "text/x-python",
   "name": "python",
   "nbconvert_exporter": "python",
   "pygments_lexer": "ipython2",
   "version": "2.7.6"
  }
 },
 "nbformat": 4,
 "nbformat_minor": 5
}
