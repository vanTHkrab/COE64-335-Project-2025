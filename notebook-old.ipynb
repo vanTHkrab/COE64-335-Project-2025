{
 "cells": [
  {
   "metadata": {},
   "cell_type": "markdown",
   "source": [
    "# This is a sample Jupyter Notebook\n",
    "\n",
    "Below is an example of a code cell. \n",
    "Put your cursor into the cell and press Shift+Enter to execute it and select the next one, or click 'Run Cell' button.\n",
    "\n",
    "Press Double Shift to search everywhere for classes, files, tool windows, actions, and settings.\n",
    "\n",
    "To learn more about Jupyter Notebooks in PyCharm, see [help](https://www.jetbrains.com/help/pycharm/ipython-notebook-support.html).\n",
    "For an overview of PyCharm, go to Help -> Learn IDE features or refer to [our documentation](https://www.jetbrains.com/help/pycharm/getting-started.html)."
   ],
   "id": "8a77807f92f26ee"
  },
  {
   "metadata": {},
   "cell_type": "code",
   "source": [
    "import pandas as pd\n",
    "import numpy as np\n",
    "from sklearn.model_selection import train_test_split\n",
    "\n",
    "from sklearn.preprocessing import StandardScaler\n",
    "from sklearn.pipeline import Pipeline\n",
    "from sklearn.linear_model import LogisticRegression\n",
    "from sklearn.tree import DecisionTreeClassifier\n",
    "from sklearn.ensemble import RandomForestClassifier\n",
    "from sklearn.metrics import classification_report\n",
    "from sklearn.model_selection import StratifiedKFold, GridSearchCV\n",
    "from sklearn.metrics import classification_report, confusion_matrix, f1_score, roc_auc_score\n",
    "\n"
   ],
   "id": "fbc121e30a2defb3",
   "outputs": [],
   "execution_count": null
  },
  {
   "metadata": {},
   "cell_type": "code",
   "source": "df = pd.read_csv(\"spatial-rain-hii.csv\")",
   "id": "eba5a27875941859",
   "outputs": [],
   "execution_count": null
  },
  {
   "metadata": {},
   "cell_type": "code",
   "source": "df.head(5)",
   "id": "5e73f3bd78842657",
   "outputs": [],
   "execution_count": null
  },
  {
   "metadata": {},
   "cell_type": "markdown",
   "source": "Cleaning",
   "id": "a603412318d4958b"
  },
  {
   "metadata": {},
   "cell_type": "markdown",
   "source": "1. Check Missing value",
   "id": "55f5eab856d4eee3"
  },
  {
   "metadata": {},
   "cell_type": "code",
   "source": [
    "\n",
    "print(df.describe(include=\"all\"))"
   ],
   "id": "1f66240df6d694a4",
   "outputs": [],
   "execution_count": null
  },
  {
   "metadata": {},
   "cell_type": "markdown",
   "source": "2.ตัด Column PROV_ID",
   "id": "4700f50c4a21f5c9"
  },
  {
   "metadata": {},
   "cell_type": "code",
   "source": "df = df.drop(columns=[\"PROV_T\"])\n",
   "id": "5aff7b2f832b40f9",
   "outputs": [],
   "execution_count": null
  },
  {
   "metadata": {},
   "cell_type": "code",
   "source": "df.head(5)",
   "id": "a440e4877d8ab48c",
   "outputs": [],
   "execution_count": null
  },
  {
   "metadata": {},
   "cell_type": "markdown",
   "source": "3.สร้าง Label >= 90 คือตก",
   "id": "759b3b5d794a584f"
  },
  {
   "metadata": {},
   "cell_type": "code",
   "source": "df[\"Rain\"] = (df[\"AvgRain\"] >= 90).astype(int)",
   "id": "1f02fb3129851792",
   "outputs": [],
   "execution_count": null
  },
  {
   "metadata": {},
   "cell_type": "code",
   "source": "df.head(5)",
   "id": "39c18ea5a62de010",
   "outputs": [],
   "execution_count": null
  },
  {
   "metadata": {},
   "cell_type": "markdown",
   "source": "Feature Engineering",
   "id": "f9f39fc7a54a3044"
  },
  {
   "metadata": {},
   "cell_type": "markdown",
   "source": "1.Add coulumn",
   "id": "8c8c4c5bd75e0185"
  },
  {
   "metadata": {},
   "cell_type": "markdown",
   "source": "- Seasonality",
   "id": "f5879c7729e77aa6"
  },
  {
   "metadata": {},
   "cell_type": "code",
   "source": [
    "df[\"month_sin\"] = np.sin(2*np.pi*df[\"MONTH\"]/12)\n",
    "df[\"month_cos\"] = np.cos(2*np.pi*df[\"MONTH\"]/12)"
   ],
   "id": "4a8c1e3fc813b79c",
   "outputs": [],
   "execution_count": null
  },
  {
   "metadata": {},
   "cell_type": "code",
   "source": "df.head(5)",
   "id": "bff7aaa2041f8c4a",
   "outputs": [],
   "execution_count": null
  },
  {
   "metadata": {},
   "cell_type": "code",
   "source": "df = df.drop(columns=[\"MONTH\"])",
   "id": "a2934e6dc15e902e",
   "outputs": [],
   "execution_count": null
  },
  {
   "metadata": {},
   "cell_type": "code",
   "source": "df.head(3)",
   "id": "b5dd6169a7358bfa",
   "outputs": [],
   "execution_count": null
  },
  {
   "metadata": {},
   "cell_type": "markdown",
   "source": "# Train/Test Split",
   "id": "fa1f8bc845c8ba93"
  },
  {
   "metadata": {},
   "cell_type": "code",
   "source": [
    "X = df[[\"PROV_ID\", \"month_sin\", \"month_cos\"]]\n",
    "y = df[\"Rain\"]\n",
    "\n",
    "X_train, X_test, y_train, y_test = train_test_split(\n",
    "    X, y, test_size=0.2, random_state=42, stratify=y\n",
    ")"
   ],
   "id": "c9ad31d66bd330f1",
   "outputs": [],
   "execution_count": null
  },
  {
   "metadata": {},
   "cell_type": "code",
   "source": [
    "print(\"X_train sample:\")\n",
    "print(X_train.head())\n",
    "\n",
    "print(\"\\ny_train sample:\")\n",
    "print(y_train.head())\n",
    "\n",
    "print(\"\\nX_test sample:\")\n",
    "print(X_test.head())\n",
    "\n",
    "print(\"\\ny_test sample:\")\n",
    "print(y_test.head())\n"
   ],
   "id": "99ecb706f773536a",
   "outputs": [],
   "execution_count": null
  },
  {
   "metadata": {},
   "cell_type": "markdown",
   "source": [
    "********** Traning ************\n",
    "and scaling"
   ],
   "id": "4ce2699fe6496835"
  },
  {
   "metadata": {},
   "cell_type": "markdown",
   "source": "# Logistic Regression",
   "id": "4a143f3afba87a36"
  },
  {
   "metadata": {},
   "cell_type": "code",
   "source": [
    "log_pipe = Pipeline([\n",
    "    (\"scaler\", StandardScaler()),\n",
    "    (\"clf\", LogisticRegression(max_iter=1000))\n",
    "])\n",
    "log_pipe.fit(X_train, y_train)"
   ],
   "id": "27a2215e8825f1d5",
   "outputs": [],
   "execution_count": null
  },
  {
   "metadata": {},
   "cell_type": "code",
   "source": [
    "y_pred = log_pipe.predict(X_test)\n",
    "y_proba = log_pipe.predict_proba(X_test)[:, 1]   # ใช้ proba ของ Rain=1\n",
    "\n",
    "print(\"=== Logistic Regression ===\")\n",
    "print(classification_report(y_test, y_pred, digits=4))\n",
    "print(confusion_matrix(y_test, y_pred))\n",
    "\n",
    "# เพิ่ม F1 และ ROC-AUC\n",
    "f1 = f1_score(y_test, y_pred)\n",
    "auc = roc_auc_score(y_test, y_proba)\n",
    "print(f\"F1-score (test): {f1:.4f}\")\n",
    "print(f\"ROC-AUC   (test): {auc:.4f}\")"
   ],
   "id": "b7edec12b3ff2b64",
   "outputs": [],
   "execution_count": null
  },
  {
   "metadata": {},
   "cell_type": "markdown",
   "source": "# Decision Tree",
   "id": "11d7460c3344f4b"
  },
  {
   "metadata": {},
   "cell_type": "code",
   "source": [
    "tree_pipe = Pipeline([\n",
    "    (\"scaler\", StandardScaler()),   # จริง ๆ ไม่จำเป็นกับ tree\n",
    "    (\"clf\", DecisionTreeClassifier(random_state=42))\n",
    "])\n",
    "tree_pipe.fit(X_train, y_train)"
   ],
   "id": "c01e2aed253abde6",
   "outputs": [],
   "execution_count": null
  },
  {
   "metadata": {},
   "cell_type": "code",
   "source": [
    "y_pred = tree_pipe.predict(X_test)\n",
    "print(\"=== Decision Tree ===\")\n",
    "print(classification_report(y_test, y_pred, digits=4))\n",
    "print(confusion_matrix(y_test, y_pred))\n",
    "# เพิ่ม F1 และ ROC-AUC\n",
    "f1 = f1_score(y_test, y_pred)\n",
    "auc = roc_auc_score(y_test, y_proba)\n",
    "print(f\"F1-score (test): {f1:.4f}\")\n",
    "print(f\"ROC-AUC   (test): {auc:.4f}\")"
   ],
   "id": "4d38a5c71a5bbbbe",
   "outputs": [],
   "execution_count": null
  },
  {
   "metadata": {},
   "cell_type": "markdown",
   "source": "# Random Forest",
   "id": "3f1d7cfef09238e4"
  },
  {
   "metadata": {},
   "cell_type": "code",
   "source": [
    "rf_pipe = Pipeline([\n",
    "    (\"scaler\", StandardScaler()),   # ไม่จำเป็นกับ forest เช่นกัน\n",
    "    (\"clf\", RandomForestClassifier(random_state=42))\n",
    "])\n",
    "rf_pipe.fit(X_train, y_train)"
   ],
   "id": "6f8368b3a25fe90b",
   "outputs": [],
   "execution_count": null
  },
  {
   "metadata": {},
   "cell_type": "code",
   "source": [
    "y_pred = rf_pipe.predict(X_test)\n",
    "print(\"=== Random Forest ===\")\n",
    "print(classification_report(y_test, y_pred, digits=4))\n",
    "print(confusion_matrix(y_test, y_pred))\n",
    "# เพิ่ม F1 และ ROC-AUC\n",
    "f1 = f1_score(y_test, y_pred)\n",
    "auc = roc_auc_score(y_test, y_proba)\n",
    "print(f\"F1-score (test): {f1:.4f}\")\n",
    "print(f\"ROC-AUC   (test): {auc:.4f}\")"
   ],
   "id": "84d93219e30df55",
   "outputs": [],
   "execution_count": null
  },
  {
   "metadata": {},
   "cell_type": "code",
   "source": "",
   "id": "561610560695553c",
   "outputs": [],
   "execution_count": null
  },
  {
   "metadata": {},
   "cell_type": "markdown",
   "source": "",
   "id": "5f25d16774bc77d4"
  },
  {
   "metadata": {},
   "cell_type": "markdown",
   "source": "",
   "id": "850c8fa3dc3d7d16"
  },
  {
   "metadata": {},
   "cell_type": "markdown",
   "source": "",
   "id": "365c2ebe62be72ce"
  },
  {
   "metadata": {},
   "cell_type": "markdown",
   "source": "# Hyperparameter Tunning",
   "id": "1e47cdc0aee3aa9d"
  },
  {
   "metadata": {},
   "cell_type": "markdown",
   "source": "## Grid Search",
   "id": "38d1ddff15fbf86e"
  },
  {
   "metadata": {},
   "cell_type": "code",
   "source": [
    "cv = StratifiedKFold(n_splits=5, shuffle=True, random_state=42)\n",
    "scoring = \"f1\"   # เน้นบาลานซ์ precision/recall ของ Rain=1\n",
    "\n",
    "def run_grid_search(pipe, grid):\n",
    "    search = GridSearchCV(\n",
    "        estimator=pipe,\n",
    "        param_grid=grid,\n",
    "        scoring=\"f1\",        # ใช้ f1 ในการเลือกพารามิเตอร์\n",
    "        cv=cv,\n",
    "        n_jobs=-1\n",
    "    )\n",
    "    search.fit(X_train, y_train)\n",
    "    best_model = search.best_estimator_\n",
    "    print(\"Best params:\", search.best_params_)\n",
    "\n",
    "    # Predict บน test set\n",
    "    y_pred = best_model.predict(X_test)\n",
    "    y_proba = best_model.predict_proba(X_test)[:, 1]\n",
    "\n",
    "    # รายงานผล\n",
    "    print(classification_report(y_test, y_pred, digits=4))\n",
    "    print(confusion_matrix(y_test, y_pred))\n",
    "\n",
    "    # ค่า F1 และ ROC-AUC บน test set\n",
    "    f1 = f1_score(y_test, y_pred)\n",
    "    auc = roc_auc_score(y_test, y_proba)\n",
    "    print(f\"F1-score (test): {f1:.4f}\")\n",
    "    print(f\"ROC-AUC   (test): {auc:.4f}\")\n",
    "\n",
    "    return best_model"
   ],
   "id": "f8ee1b3a1e7455e7",
   "outputs": [],
   "execution_count": null
  },
  {
   "metadata": {},
   "cell_type": "markdown",
   "source": "### - Logistic Regession",
   "id": "c1840b4a1145c836"
  },
  {
   "metadata": {},
   "cell_type": "code",
   "source": [
    "lr_pipe = Pipeline([\n",
    "    (\"scaler\", StandardScaler()),\n",
    "    (\"clf\", LogisticRegression(max_iter=4000, solver=\"lbfgs\"))\n",
    "])\n",
    "\n",
    "grid_lr = {\n",
    "    \"clf__C\": [0.1, 0.5, 1.0, 2.0, 10.0],   # คุมความแรง regularization\n",
    "    \"clf__class_weight\": [None, \"balanced\"] # ถ่วง class ถ้า skew\n",
    "}\n",
    "\n",
    "best_lr = run_grid_search(lr_pipe, grid_lr)\n"
   ],
   "id": "1393dc42e05f4f34",
   "outputs": [],
   "execution_count": null
  },
  {
   "metadata": {},
   "cell_type": "markdown",
   "source": "### - Decision Tree",
   "id": "5abc38cf22316a0c"
  },
  {
   "metadata": {},
   "cell_type": "code",
   "source": [
    "dt_pipe = Pipeline([\n",
    "    (\"scaler\", StandardScaler()),\n",
    "    (\"clf\", DecisionTreeClassifier(random_state=42))\n",
    "])\n",
    "\n",
    "grid_dt = {\n",
    "    \"clf__max_depth\": [None, 5, 10, 15],  # กัน overfit\n",
    "    \"clf__min_samples_leaf\": [1, 3, 5, 10],\n",
    "    \"clf__class_weight\": [None, \"balanced\"]\n",
    "}\n",
    "\n",
    "best_dt = run_grid_search(dt_pipe, grid_dt)\n"
   ],
   "id": "96e1e4286397135d",
   "outputs": [],
   "execution_count": null
  },
  {
   "metadata": {},
   "cell_type": "markdown",
   "source": "### - Random Forest",
   "id": "10d01ad5a268ca44"
  },
  {
   "metadata": {},
   "cell_type": "code",
   "source": [
    "from sklearn.ensemble import RandomForestClassifier\n",
    "\n",
    "rf_pipe = Pipeline([\n",
    "    (\"scaler\", StandardScaler()),\n",
    "    (\"clf\", RandomForestClassifier(random_state=42, n_jobs=-1))\n",
    "])\n",
    "\n",
    "grid_rf = {\n",
    "    \"clf__n_estimators\": [200, 400, 600],  # มากขึ้น = เสถียรขึ้น (แต่ช้าขึ้น)\n",
    "    \"clf__max_depth\": [None, 10, 15, 20],\n",
    "    \"clf__min_samples_leaf\": [1, 2, 4],\n",
    "    \"clf__max_features\": [\"sqrt\", \"log2\"], # 'sqrt' มักดีสำหรับ classification\n",
    "    \"clf__class_weight\": [None, \"balanced\"]\n",
    "}\n",
    "\n",
    "best_rf = run_grid_search(rf_pipe, grid_rf)\n"
   ],
   "id": "bdf77aaaf0b86221",
   "outputs": [],
   "execution_count": null
  },
  {
   "metadata": {
    "jupyter": {
     "is_executing": true
    }
   },
   "cell_type": "code",
   "source": [
    "rf_pipe = Pipeline([\n",
    "    (\"scaler\", StandardScaler()),\n",
    "    (\"clf\", RandomForestClassifier(random_state=42, n_jobs=-1))\n",
    "])\n",
    "\n",
    "grid_rf = {\n",
    "    # จำนวนต้นไม้ (เยอะขึ้น เสถียรขึ้น แต่ช้าลง)\n",
    "    \"clf__n_estimators\": [200, 400, 600, 1000],\n",
    "\n",
    "    # ความลึกของต้นไม้\n",
    "    \"clf__max_depth\": [None, 10, 15, 25, 30],\n",
    "\n",
    "    # จำนวน sample ขั้นต่ำต่อ split และ leaf\n",
    "    \"clf__min_samples_split\": [2, 5, 10],\n",
    "    \"clf__min_samples_leaf\": [1, 2, 6],\n",
    "\n",
    "    # ฟีเจอร์ที่ใช้ตอน split\n",
    "    \"clf__max_features\": [\"sqrt\", \"log2\", None],\n",
    "\n",
    "    # ถ่วงน้ำหนักคลาส\n",
    "    \"clf__class_weight\": [None, \"balanced\"]\n",
    "}\n",
    "\n",
    "best_rf = run_grid_search(rf_pipe, grid_rf)\n"
   ],
   "id": "d155e332c7583e7a",
   "outputs": [],
   "execution_count": null
  }
 ],
 "metadata": {
  "kernelspec": {
   "display_name": "Python 3",
   "language": "python",
   "name": "python3"
  },
  "language_info": {
   "codemirror_mode": {
    "name": "ipython",
    "version": 2
   },
   "file_extension": ".py",
   "mimetype": "text/x-python",
   "name": "python",
   "nbconvert_exporter": "python",
   "pygments_lexer": "ipython2",
   "version": "2.7.6"
  }
 },
 "nbformat": 4,
 "nbformat_minor": 5
}
