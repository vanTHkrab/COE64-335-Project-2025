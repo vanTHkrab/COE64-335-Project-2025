{
 "cells": [
  {
   "metadata": {
    "ExecuteTime": {
     "end_time": "2025-09-13T10:59:33.816858Z",
     "start_time": "2025-09-13T10:59:32.913221Z"
    }
   },
   "cell_type": "code",
   "source": [
    "import pandas as pd\n",
    "import numpy as np\n",
    "import matplotlib.pyplot as plt\n",
    "from sklearn.preprocessing import MinMaxScaler"
   ],
   "id": "d6ea7b6392045c55",
   "outputs": [],
   "execution_count": 39
  },
  {
   "metadata": {
    "ExecuteTime": {
     "end_time": "2025-09-13T10:59:33.848252Z",
     "start_time": "2025-09-13T10:59:33.829529Z"
    }
   },
   "cell_type": "code",
   "source": [
    "df = pd.read_csv(\"data/spatial-rain-hii.csv\")\n",
    "print(df.head())"
   ],
   "id": "db7a3859ede239d0",
   "outputs": [
    {
     "name": "stdout",
     "output_type": "stream",
     "text": [
      "   YEAR  MONTH  PROV_ID           PROV_T    MinRain     MaxRain     AvgRain\n",
      "0  2018      1       10    กรุงเทพมหานคร  54.299999  257.230011  142.119137\n",
      "1  2018      1       11      สมุทรปราการ  76.250000  256.100006  137.302046\n",
      "2  2018      1       12          นนทบุรี  38.360001  161.470001  113.433771\n",
      "3  2018      1       13         ปทุมธานี  51.439999  116.500000   82.901688\n",
      "4  2018      1       14  พระนครศรีอยุธยา   8.850000   88.589996   39.960089\n"
     ]
    }
   ],
   "execution_count": 40
  },
  {
   "metadata": {
    "ExecuteTime": {
     "end_time": "2025-09-13T10:59:33.913135Z",
     "start_time": "2025-09-13T10:59:33.886077Z"
    }
   },
   "cell_type": "code",
   "source": "df.describe(include='all')",
   "id": "742360ff4d29872f",
   "outputs": [
    {
     "data": {
      "text/plain": [
       "               YEAR        MONTH      PROV_ID         PROV_T      MinRain  \\\n",
       "count   7084.000000  7084.000000  7084.000000           7084  7084.000000   \n",
       "unique          NaN          NaN          NaN             77          NaN   \n",
       "top             NaN          NaN          NaN  กรุงเทพมหานคร          NaN   \n",
       "freq            NaN          NaN          NaN             92          NaN   \n",
       "mean    2021.347826     6.326087    51.129870            NaN    85.751294   \n",
       "std        2.218826     3.414115    24.943954            NaN    99.093571   \n",
       "min     2018.000000     1.000000    10.000000            NaN     0.000000   \n",
       "25%     2019.000000     3.000000    31.000000            NaN     4.765000   \n",
       "50%     2021.000000     6.000000    50.000000            NaN    56.670000   \n",
       "75%     2023.000000     9.000000    72.000000            NaN   135.262496   \n",
       "max     2025.000000    12.000000    96.000000            NaN  1264.140000   \n",
       "\n",
       "            MaxRain      AvgRain  \n",
       "count   7084.000000  7084.000000  \n",
       "unique          NaN          NaN  \n",
       "top             NaN          NaN  \n",
       "freq            NaN          NaN  \n",
       "mean     190.774180   130.285111  \n",
       "std      189.948223   132.369089  \n",
       "min        0.000000     0.000000  \n",
       "25%       37.292500    18.271285  \n",
       "50%      152.930000   102.885111  \n",
       "75%      278.827507   198.167024  \n",
       "max     1642.350000  1452.629329  "
      ],
      "text/html": [
       "<div>\n",
       "<style scoped>\n",
       "    .dataframe tbody tr th:only-of-type {\n",
       "        vertical-align: middle;\n",
       "    }\n",
       "\n",
       "    .dataframe tbody tr th {\n",
       "        vertical-align: top;\n",
       "    }\n",
       "\n",
       "    .dataframe thead th {\n",
       "        text-align: right;\n",
       "    }\n",
       "</style>\n",
       "<table border=\"1\" class=\"dataframe\">\n",
       "  <thead>\n",
       "    <tr style=\"text-align: right;\">\n",
       "      <th></th>\n",
       "      <th>YEAR</th>\n",
       "      <th>MONTH</th>\n",
       "      <th>PROV_ID</th>\n",
       "      <th>PROV_T</th>\n",
       "      <th>MinRain</th>\n",
       "      <th>MaxRain</th>\n",
       "      <th>AvgRain</th>\n",
       "    </tr>\n",
       "  </thead>\n",
       "  <tbody>\n",
       "    <tr>\n",
       "      <th>count</th>\n",
       "      <td>7084.000000</td>\n",
       "      <td>7084.000000</td>\n",
       "      <td>7084.000000</td>\n",
       "      <td>7084</td>\n",
       "      <td>7084.000000</td>\n",
       "      <td>7084.000000</td>\n",
       "      <td>7084.000000</td>\n",
       "    </tr>\n",
       "    <tr>\n",
       "      <th>unique</th>\n",
       "      <td>NaN</td>\n",
       "      <td>NaN</td>\n",
       "      <td>NaN</td>\n",
       "      <td>77</td>\n",
       "      <td>NaN</td>\n",
       "      <td>NaN</td>\n",
       "      <td>NaN</td>\n",
       "    </tr>\n",
       "    <tr>\n",
       "      <th>top</th>\n",
       "      <td>NaN</td>\n",
       "      <td>NaN</td>\n",
       "      <td>NaN</td>\n",
       "      <td>กรุงเทพมหานคร</td>\n",
       "      <td>NaN</td>\n",
       "      <td>NaN</td>\n",
       "      <td>NaN</td>\n",
       "    </tr>\n",
       "    <tr>\n",
       "      <th>freq</th>\n",
       "      <td>NaN</td>\n",
       "      <td>NaN</td>\n",
       "      <td>NaN</td>\n",
       "      <td>92</td>\n",
       "      <td>NaN</td>\n",
       "      <td>NaN</td>\n",
       "      <td>NaN</td>\n",
       "    </tr>\n",
       "    <tr>\n",
       "      <th>mean</th>\n",
       "      <td>2021.347826</td>\n",
       "      <td>6.326087</td>\n",
       "      <td>51.129870</td>\n",
       "      <td>NaN</td>\n",
       "      <td>85.751294</td>\n",
       "      <td>190.774180</td>\n",
       "      <td>130.285111</td>\n",
       "    </tr>\n",
       "    <tr>\n",
       "      <th>std</th>\n",
       "      <td>2.218826</td>\n",
       "      <td>3.414115</td>\n",
       "      <td>24.943954</td>\n",
       "      <td>NaN</td>\n",
       "      <td>99.093571</td>\n",
       "      <td>189.948223</td>\n",
       "      <td>132.369089</td>\n",
       "    </tr>\n",
       "    <tr>\n",
       "      <th>min</th>\n",
       "      <td>2018.000000</td>\n",
       "      <td>1.000000</td>\n",
       "      <td>10.000000</td>\n",
       "      <td>NaN</td>\n",
       "      <td>0.000000</td>\n",
       "      <td>0.000000</td>\n",
       "      <td>0.000000</td>\n",
       "    </tr>\n",
       "    <tr>\n",
       "      <th>25%</th>\n",
       "      <td>2019.000000</td>\n",
       "      <td>3.000000</td>\n",
       "      <td>31.000000</td>\n",
       "      <td>NaN</td>\n",
       "      <td>4.765000</td>\n",
       "      <td>37.292500</td>\n",
       "      <td>18.271285</td>\n",
       "    </tr>\n",
       "    <tr>\n",
       "      <th>50%</th>\n",
       "      <td>2021.000000</td>\n",
       "      <td>6.000000</td>\n",
       "      <td>50.000000</td>\n",
       "      <td>NaN</td>\n",
       "      <td>56.670000</td>\n",
       "      <td>152.930000</td>\n",
       "      <td>102.885111</td>\n",
       "    </tr>\n",
       "    <tr>\n",
       "      <th>75%</th>\n",
       "      <td>2023.000000</td>\n",
       "      <td>9.000000</td>\n",
       "      <td>72.000000</td>\n",
       "      <td>NaN</td>\n",
       "      <td>135.262496</td>\n",
       "      <td>278.827507</td>\n",
       "      <td>198.167024</td>\n",
       "    </tr>\n",
       "    <tr>\n",
       "      <th>max</th>\n",
       "      <td>2025.000000</td>\n",
       "      <td>12.000000</td>\n",
       "      <td>96.000000</td>\n",
       "      <td>NaN</td>\n",
       "      <td>1264.140000</td>\n",
       "      <td>1642.350000</td>\n",
       "      <td>1452.629329</td>\n",
       "    </tr>\n",
       "  </tbody>\n",
       "</table>\n",
       "</div>"
      ]
     },
     "execution_count": 41,
     "metadata": {},
     "output_type": "execute_result"
    }
   ],
   "execution_count": 41
  },
  {
   "metadata": {
    "ExecuteTime": {
     "end_time": "2025-09-13T10:59:34.004592Z",
     "start_time": "2025-09-13T10:59:33.997656Z"
    }
   },
   "cell_type": "code",
   "source": [
    "# Filter data for January 2018\n",
    "filtered_data = df[(df['YEAR'] == 2025) & (df['MONTH'] == 2)]\n",
    "\n",
    "# Count unique provinces\n",
    "unique_provinces = filtered_data['PROV_T'].nunique()\n",
    "print(f\"Number of unique provinces in January 2018: {unique_provinces}\")"
   ],
   "id": "aede6c9d5632eec7",
   "outputs": [
    {
     "name": "stdout",
     "output_type": "stream",
     "text": [
      "Number of unique provinces in January 2018: 77\n"
     ]
    }
   ],
   "execution_count": 42
  },
  {
   "metadata": {
    "ExecuteTime": {
     "end_time": "2025-09-13T10:59:34.205325Z",
     "start_time": "2025-09-13T10:59:34.131176Z"
    }
   },
   "cell_type": "code",
   "source": [
    "# Loop through years and months to count unique provinces for each combination\n",
    "for year in df['YEAR'].unique():\n",
    "    for month in df['MONTH'].unique():\n",
    "        filtered_data = df[(df['YEAR'] == year) & (df['MONTH'] == month)]\n",
    "        unique_provinces = filtered_data['PROV_T'].nunique()\n",
    "        print(f\"Year: {year}, Month: {month}, Unique Provinces: {unique_provinces}\")"
   ],
   "id": "304e25fdafe55311",
   "outputs": [
    {
     "name": "stdout",
     "output_type": "stream",
     "text": [
      "Year: 2018, Month: 1, Unique Provinces: 77\n",
      "Year: 2018, Month: 2, Unique Provinces: 77\n",
      "Year: 2018, Month: 3, Unique Provinces: 77\n",
      "Year: 2018, Month: 4, Unique Provinces: 77\n",
      "Year: 2018, Month: 5, Unique Provinces: 77\n",
      "Year: 2018, Month: 6, Unique Provinces: 77\n",
      "Year: 2018, Month: 7, Unique Provinces: 77\n",
      "Year: 2018, Month: 8, Unique Provinces: 77\n",
      "Year: 2018, Month: 9, Unique Provinces: 77\n",
      "Year: 2018, Month: 10, Unique Provinces: 77\n",
      "Year: 2018, Month: 11, Unique Provinces: 77\n",
      "Year: 2018, Month: 12, Unique Provinces: 77\n",
      "Year: 2019, Month: 1, Unique Provinces: 77\n",
      "Year: 2019, Month: 2, Unique Provinces: 77\n",
      "Year: 2019, Month: 3, Unique Provinces: 77\n",
      "Year: 2019, Month: 4, Unique Provinces: 77\n",
      "Year: 2019, Month: 5, Unique Provinces: 77\n",
      "Year: 2019, Month: 6, Unique Provinces: 77\n",
      "Year: 2019, Month: 7, Unique Provinces: 77\n",
      "Year: 2019, Month: 8, Unique Provinces: 77\n",
      "Year: 2019, Month: 9, Unique Provinces: 77\n",
      "Year: 2019, Month: 10, Unique Provinces: 77\n",
      "Year: 2019, Month: 11, Unique Provinces: 77\n",
      "Year: 2019, Month: 12, Unique Provinces: 77\n",
      "Year: 2020, Month: 1, Unique Provinces: 77\n",
      "Year: 2020, Month: 2, Unique Provinces: 77\n",
      "Year: 2020, Month: 3, Unique Provinces: 77\n",
      "Year: 2020, Month: 4, Unique Provinces: 77\n",
      "Year: 2020, Month: 5, Unique Provinces: 77\n",
      "Year: 2020, Month: 6, Unique Provinces: 77\n",
      "Year: 2020, Month: 7, Unique Provinces: 77\n",
      "Year: 2020, Month: 8, Unique Provinces: 77\n",
      "Year: 2020, Month: 9, Unique Provinces: 77\n",
      "Year: 2020, Month: 10, Unique Provinces: 77\n",
      "Year: 2020, Month: 11, Unique Provinces: 77\n",
      "Year: 2020, Month: 12, Unique Provinces: 77\n",
      "Year: 2021, Month: 1, Unique Provinces: 77\n",
      "Year: 2021, Month: 2, Unique Provinces: 77\n",
      "Year: 2021, Month: 3, Unique Provinces: 77\n",
      "Year: 2021, Month: 4, Unique Provinces: 77\n",
      "Year: 2021, Month: 5, Unique Provinces: 77\n",
      "Year: 2021, Month: 6, Unique Provinces: 77\n",
      "Year: 2021, Month: 7, Unique Provinces: 77\n",
      "Year: 2021, Month: 8, Unique Provinces: 77\n",
      "Year: 2021, Month: 9, Unique Provinces: 77\n",
      "Year: 2021, Month: 10, Unique Provinces: 77\n",
      "Year: 2021, Month: 11, Unique Provinces: 77\n",
      "Year: 2021, Month: 12, Unique Provinces: 77\n",
      "Year: 2022, Month: 1, Unique Provinces: 77\n",
      "Year: 2022, Month: 2, Unique Provinces: 77\n",
      "Year: 2022, Month: 3, Unique Provinces: 77\n",
      "Year: 2022, Month: 4, Unique Provinces: 77\n",
      "Year: 2022, Month: 5, Unique Provinces: 77\n",
      "Year: 2022, Month: 6, Unique Provinces: 77\n",
      "Year: 2022, Month: 7, Unique Provinces: 77\n",
      "Year: 2022, Month: 8, Unique Provinces: 77\n",
      "Year: 2022, Month: 9, Unique Provinces: 77\n",
      "Year: 2022, Month: 10, Unique Provinces: 77\n",
      "Year: 2022, Month: 11, Unique Provinces: 77\n",
      "Year: 2022, Month: 12, Unique Provinces: 77\n",
      "Year: 2023, Month: 1, Unique Provinces: 77\n",
      "Year: 2023, Month: 2, Unique Provinces: 77\n",
      "Year: 2023, Month: 3, Unique Provinces: 77\n",
      "Year: 2023, Month: 4, Unique Provinces: 77\n",
      "Year: 2023, Month: 5, Unique Provinces: 77\n",
      "Year: 2023, Month: 6, Unique Provinces: 77\n",
      "Year: 2023, Month: 7, Unique Provinces: 77\n",
      "Year: 2023, Month: 8, Unique Provinces: 77\n",
      "Year: 2023, Month: 9, Unique Provinces: 77\n",
      "Year: 2023, Month: 10, Unique Provinces: 77\n",
      "Year: 2023, Month: 11, Unique Provinces: 77\n",
      "Year: 2023, Month: 12, Unique Provinces: 77\n",
      "Year: 2024, Month: 1, Unique Provinces: 77\n",
      "Year: 2024, Month: 2, Unique Provinces: 77\n",
      "Year: 2024, Month: 3, Unique Provinces: 77\n",
      "Year: 2024, Month: 4, Unique Provinces: 77\n",
      "Year: 2024, Month: 5, Unique Provinces: 77\n",
      "Year: 2024, Month: 6, Unique Provinces: 77\n",
      "Year: 2024, Month: 7, Unique Provinces: 77\n",
      "Year: 2024, Month: 8, Unique Provinces: 77\n",
      "Year: 2024, Month: 9, Unique Provinces: 77\n",
      "Year: 2024, Month: 10, Unique Provinces: 77\n",
      "Year: 2024, Month: 11, Unique Provinces: 77\n",
      "Year: 2024, Month: 12, Unique Provinces: 77\n",
      "Year: 2025, Month: 1, Unique Provinces: 77\n",
      "Year: 2025, Month: 2, Unique Provinces: 77\n",
      "Year: 2025, Month: 3, Unique Provinces: 77\n",
      "Year: 2025, Month: 4, Unique Provinces: 77\n",
      "Year: 2025, Month: 5, Unique Provinces: 77\n",
      "Year: 2025, Month: 6, Unique Provinces: 77\n",
      "Year: 2025, Month: 7, Unique Provinces: 77\n",
      "Year: 2025, Month: 8, Unique Provinces: 77\n",
      "Year: 2025, Month: 9, Unique Provinces: 0\n",
      "Year: 2025, Month: 10, Unique Provinces: 0\n",
      "Year: 2025, Month: 11, Unique Provinces: 0\n",
      "Year: 2025, Month: 12, Unique Provinces: 0\n"
     ]
    }
   ],
   "execution_count": 43
  },
  {
   "metadata": {
    "ExecuteTime": {
     "end_time": "2025-09-13T10:59:34.377541Z",
     "start_time": "2025-09-13T10:59:34.212074Z"
    }
   },
   "cell_type": "code",
   "source": [
    "# We'll use the IQR method to detect outliers for numeric columns\n",
    "\n",
    "\n",
    "\n",
    "numeric_cols = df.select_dtypes(include=[\"number\"]).columns\n",
    "\n",
    "\n",
    "\n",
    "outlier_report = {}\n",
    "\n",
    "\n",
    "\n",
    "for col in numeric_cols:\n",
    "\n",
    "    Q1 = df[col].quantile(0.25)\n",
    "\n",
    "    Q3 = df[col].quantile(0.75)\n",
    "\n",
    "    IQR = Q3 - Q1\n",
    "\n",
    "    lower_bound = Q1 - 1.5 * IQR\n",
    "\n",
    "    upper_bound = Q3 + 1.5 * IQR\n",
    "\n",
    "    outliers = df[(df[col] < lower_bound) | (df[col] > upper_bound)][col]\n",
    "\n",
    "    outlier_report[col] = {\n",
    "\n",
    "        \"Lower Bound\": lower_bound,\n",
    "\n",
    "        \"Upper Bound\": upper_bound,\n",
    "\n",
    "        \"Outlier Count\": len(outliers),\n",
    "\n",
    "        \"Outlier Percentage\": (len(outliers) / len(df)) * 100\n",
    "\n",
    "    }\n",
    "\n",
    "\n",
    "\n",
    "outlier_df = pd.DataFrame(outlier_report).T\n",
    "\n",
    "\n",
    "# Plot the outlier report\n",
    "outlier_df_sorted = outlier_df.sort_values(by=\"Outlier Count\", ascending=False)\n",
    "\n",
    "plt.figure(figsize=(10, 6))\n",
    "outlier_df_sorted[\"Outlier Count\"].plot(kind=\"bar\", color=\"skyblue\")\n",
    "plt.title(\"Outlier Count by Numeric Column\")\n",
    "plt.xlabel(\"Columns\")\n",
    "plt.ylabel(\"Outlier Count\")\n",
    "plt.xticks(rotation=45, ha=\"right\")\n",
    "plt.tight_layout()\n",
    "plt.show()"
   ],
   "id": "6f40d15a498781cd",
   "outputs": [
    {
     "data": {
      "text/plain": [
       "<Figure size 1000x600 with 1 Axes>"
      ],
      "image/png": "[encoded data removed]"
     },
     "metadata": {},
     "output_type": "display_data",
     "jetTransient": {
      "display_id": null
     }
    }
   ],
   "execution_count": 44
  },
  {
   "metadata": {
    "ExecuteTime": {
     "end_time": "2025-09-13T10:59:34.643234Z",
     "start_time": "2025-09-13T10:59:34.385778Z"
    }
   },
   "cell_type": "code",
   "source": [
    "# Create a box plot for numeric columns\n",
    "plt.figure(figsize=(12, 8))\n",
    "df[numeric_cols].boxplot()\n",
    "plt.title(\"Box Plot of Numeric Columns\")\n",
    "plt.xlabel(\"Columns\")\n",
    "plt.ylabel(\"Values\")\n",
    "plt.xticks(rotation=45, ha=\"right\")\n",
    "plt.tight_layout()\n",
    "plt.show()"
   ],
   "id": "af0977c18691b15d",
   "outputs": [
    {
     "data": {
      "text/plain": [
       "<Figure size 1200x800 with 1 Axes>"
      ],
      "image/png": "[encoded data removed]"
     },
     "metadata": {},
     "output_type": "display_data",
     "jetTransient": {
      "display_id": null
     }
    }
   ],
   "execution_count": 45
  },
  {
   "metadata": {
    "ExecuteTime": {
     "end_time": "2025-09-13T10:59:34.661365Z",
     "start_time": "2025-09-13T10:59:34.656171Z"
    }
   },
   "cell_type": "code",
   "source": [
    "# Drop columns with all NaN values\n",
    "df = df.dropna(axis=1, how='all')\n",
    "print(\"Columns with all NaN values have been dropped.\")"
   ],
   "id": "91f425bb4271e3ba",
   "outputs": [
    {
     "name": "stdout",
     "output_type": "stream",
     "text": [
      "Columns with all NaN values have been dropped.\n"
     ]
    }
   ],
   "execution_count": 46
  },
  {
   "metadata": {
    "ExecuteTime": {
     "end_time": "2025-09-13T10:59:34.738264Z",
     "start_time": "2025-09-13T10:59:34.730779Z"
    }
   },
   "cell_type": "code",
   "source": [
    "# Feature scaling for MinRain, MaxRain, and AvgRain columns\n",
    "\n",
    "scaler = MinMaxScaler()\n",
    "scaled_columns = ['MinRain', 'MaxRain', 'AvgRain']\n",
    "\n",
    "df[scaled_columns] = scaler.fit_transform(df[scaled_columns])\n",
    "print(\"Feature scaling applied to MinRain, MaxRain, and AvgRain columns.\")"
   ],
   "id": "640cbdbc9c8118f5",
   "outputs": [
    {
     "name": "stdout",
     "output_type": "stream",
     "text": [
      "Feature scaling applied to MinRain, MaxRain, and AvgRain columns.\n"
     ]
    }
   ],
   "execution_count": 47
  },
  {
   "metadata": {
    "ExecuteTime": {
     "end_time": "2025-09-13T10:59:53.016976Z",
     "start_time": "2025-09-13T10:59:53.008940Z"
    }
   },
   "cell_type": "code",
   "source": "df.info()",
   "id": "747acb6710c58188",
   "outputs": [
    {
     "name": "stdout",
     "output_type": "stream",
     "text": [
      "<class 'pandas.core.frame.DataFrame'>\n",
      "RangeIndex: 7084 entries, 0 to 7083\n",
      "Data columns (total 7 columns):\n",
      " #   Column   Non-Null Count  Dtype  \n",
      "---  ------   --------------  -----  \n",
      " 0   YEAR     7084 non-null   int64  \n",
      " 1   MONTH    7084 non-null   int64  \n",
      " 2   PROV_ID  7084 non-null   int64  \n",
      " 3   PROV_T   7084 non-null   object \n",
      " 4   MinRain  7084 non-null   float64\n",
      " 5   MaxRain  7084 non-null   float64\n",
      " 6   AvgRain  7084 non-null   float64\n",
      "dtypes: float64(3), int64(3), object(1)\n",
      "memory usage: 387.5+ KB\n"
     ]
    }
   ],
   "execution_count": 50
  },
  {
   "metadata": {
    "ExecuteTime": {
     "end_time": "2025-09-13T10:59:51.708371Z",
     "start_time": "2025-09-13T10:59:51.674213Z"
    }
   },
   "cell_type": "code",
   "source": "df.describe(include='all')",
   "id": "5427458d31ccf7fc",
   "outputs": [
    {
     "data": {
      "text/plain": [
       "               YEAR        MONTH      PROV_ID         PROV_T      MinRain  \\\n",
       "count   7084.000000  7084.000000  7084.000000           7084  7084.000000   \n",
       "unique          NaN          NaN          NaN             77          NaN   \n",
       "top             NaN          NaN          NaN  กรุงเทพมหานคร          NaN   \n",
       "freq            NaN          NaN          NaN             92          NaN   \n",
       "mean    2021.347826     6.326087    51.129870            NaN     0.067834   \n",
       "std        2.218826     3.414115    24.943954            NaN     0.078388   \n",
       "min     2018.000000     1.000000    10.000000            NaN     0.000000   \n",
       "25%     2019.000000     3.000000    31.000000            NaN     0.003769   \n",
       "50%     2021.000000     6.000000    50.000000            NaN     0.044829   \n",
       "75%     2023.000000     9.000000    72.000000            NaN     0.107000   \n",
       "max     2025.000000    12.000000    96.000000            NaN     1.000000   \n",
       "\n",
       "            MaxRain      AvgRain  \n",
       "count   7084.000000  7084.000000  \n",
       "unique          NaN          NaN  \n",
       "top             NaN          NaN  \n",
       "freq            NaN          NaN  \n",
       "mean       0.116159     0.089689  \n",
       "std        0.115656     0.091124  \n",
       "min        0.000000     0.000000  \n",
       "25%        0.022707     0.012578  \n",
       "50%        0.093117     0.070827  \n",
       "75%        0.169773     0.136420  \n",
       "max        1.000000     1.000000  "
      ],
      "text/html": [
       "<div>\n",
       "<style scoped>\n",
       "    .dataframe tbody tr th:only-of-type {\n",
       "        vertical-align: middle;\n",
       "    }\n",
       "\n",
       "    .dataframe tbody tr th {\n",
       "        vertical-align: top;\n",
       "    }\n",
       "\n",
       "    .dataframe thead th {\n",
       "        text-align: right;\n",
       "    }\n",
       "</style>\n",
       "<table border=\"1\" class=\"dataframe\">\n",
       "  <thead>\n",
       "    <tr style=\"text-align: right;\">\n",
       "      <th></th>\n",
       "      <th>YEAR</th>\n",
       "      <th>MONTH</th>\n",
       "      <th>PROV_ID</th>\n",
       "      <th>PROV_T</th>\n",
       "      <th>MinRain</th>\n",
       "      <th>MaxRain</th>\n",
       "      <th>AvgRain</th>\n",
       "    </tr>\n",
       "  </thead>\n",
       "  <tbody>\n",
       "    <tr>\n",
       "      <th>count</th>\n",
       "      <td>7084.000000</td>\n",
       "      <td>7084.000000</td>\n",
       "      <td>7084.000000</td>\n",
       "      <td>7084</td>\n",
       "      <td>7084.000000</td>\n",
       "      <td>7084.000000</td>\n",
       "      <td>7084.000000</td>\n",
       "    </tr>\n",
       "    <tr>\n",
       "      <th>unique</th>\n",
       "      <td>NaN</td>\n",
       "      <td>NaN</td>\n",
       "      <td>NaN</td>\n",
       "      <td>77</td>\n",
       "      <td>NaN</td>\n",
       "      <td>NaN</td>\n",
       "      <td>NaN</td>\n",
       "    </tr>\n",
       "    <tr>\n",
       "      <th>top</th>\n",
       "      <td>NaN</td>\n",
       "      <td>NaN</td>\n",
       "      <td>NaN</td>\n",
       "      <td>กรุงเทพมหานคร</td>\n",
       "      <td>NaN</td>\n",
       "      <td>NaN</td>\n",
       "      <td>NaN</td>\n",
       "    </tr>\n",
       "    <tr>\n",
       "      <th>freq</th>\n",
       "      <td>NaN</td>\n",
       "      <td>NaN</td>\n",
       "      <td>NaN</td>\n",
       "      <td>92</td>\n",
       "      <td>NaN</td>\n",
       "      <td>NaN</td>\n",
       "      <td>NaN</td>\n",
       "    </tr>\n",
       "    <tr>\n",
       "      <th>mean</th>\n",
       "      <td>2021.347826</td>\n",
       "      <td>6.326087</td>\n",
       "      <td>51.129870</td>\n",
       "      <td>NaN</td>\n",
       "      <td>0.067834</td>\n",
       "      <td>0.116159</td>\n",
       "      <td>0.089689</td>\n",
       "    </tr>\n",
       "    <tr>\n",
       "      <th>std</th>\n",
       "      <td>2.218826</td>\n",
       "      <td>3.414115</td>\n",
       "      <td>24.943954</td>\n",
       "      <td>NaN</td>\n",
       "      <td>0.078388</td>\n",
       "      <td>0.115656</td>\n",
       "      <td>0.091124</td>\n",
       "    </tr>\n",
       "    <tr>\n",
       "      <th>min</th>\n",
       "      <td>2018.000000</td>\n",
       "      <td>1.000000</td>\n",
       "      <td>10.000000</td>\n",
       "      <td>NaN</td>\n",
       "      <td>0.000000</td>\n",
       "      <td>0.000000</td>\n",
       "      <td>0.000000</td>\n",
       "    </tr>\n",
       "    <tr>\n",
       "      <th>25%</th>\n",
       "      <td>2019.000000</td>\n",
       "      <td>3.000000</td>\n",
       "      <td>31.000000</td>\n",
       "      <td>NaN</td>\n",
       "      <td>0.003769</td>\n",
       "      <td>0.022707</td>\n",
       "      <td>0.012578</td>\n",
       "    </tr>\n",
       "    <tr>\n",
       "      <th>50%</th>\n",
       "      <td>2021.000000</td>\n",
       "      <td>6.000000</td>\n",
       "      <td>50.000000</td>\n",
       "      <td>NaN</td>\n",
       "      <td>0.044829</td>\n",
       "      <td>0.093117</td>\n",
       "      <td>0.070827</td>\n",
       "    </tr>\n",
       "    <tr>\n",
       "      <th>75%</th>\n",
       "      <td>2023.000000</td>\n",
       "      <td>9.000000</td>\n",
       "      <td>72.000000</td>\n",
       "      <td>NaN</td>\n",
       "      <td>0.107000</td>\n",
       "      <td>0.169773</td>\n",
       "      <td>0.136420</td>\n",
       "    </tr>\n",
       "    <tr>\n",
       "      <th>max</th>\n",
       "      <td>2025.000000</td>\n",
       "      <td>12.000000</td>\n",
       "      <td>96.000000</td>\n",
       "      <td>NaN</td>\n",
       "      <td>1.000000</td>\n",
       "      <td>1.000000</td>\n",
       "      <td>1.000000</td>\n",
       "    </tr>\n",
       "  </tbody>\n",
       "</table>\n",
       "</div>"
      ]
     },
     "execution_count": 49,
     "metadata": {},
     "output_type": "execute_result"
    }
   ],
   "execution_count": 49
  }
 ],
 "metadata": {
  "kernelspec": {
   "display_name": "Python 3",
   "language": "python",
   "name": "python3"
  },
  "language_info": {
   "codemirror_mode": {
    "name": "ipython",
    "version": 2
   },
   "file_extension": ".py",
   "mimetype": "text/x-python",
   "name": "python",
   "nbconvert_exporter": "python",
   "pygments_lexer": "ipython2",
   "version": "2.7.6"
  }
 },
 "nbformat": 4,
 "nbformat_minor": 5
}
